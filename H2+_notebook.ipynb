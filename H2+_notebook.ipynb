{
 "cells": [
  {
   "cell_type": "markdown",
   "metadata": {},
   "source": [
    "# H<sub>2</sub><sup>+</sup> Finestructure\n",
    "\n",
    "In this notebook the hyperfine structure of the H<sub>2</sub><sup>+</sup> molecular ion for a ro-vibrational level ($L$,$\\nu$) will be analyzed. Learning the eigenenegies and eigenstates in dependence of the magnetic field $B$."
   ]
  },
  {
   "cell_type": "code",
   "execution_count": 1,
   "metadata": {},
   "outputs": [],
   "source": [
    "#import all necessary packages\n",
    "from IPython.display import display, Markdown, HTML\n",
    "from H2plus_lib import *\n",
    "import numpy as np\n",
    "import matplotlib.pyplot as plt\n",
    "import pandas as pd\n",
    "from ipywidgets import interact, interactive, Dropdown, FloatLogSlider, FloatSlider, IntText, Checkbox, fixed, IntSlider, Button, interact_manual\n",
    "import fractions\n",
    "from H2plus_functions import *\n"
   ]
  },
  {
   "cell_type": "code",
   "execution_count": 2,
   "metadata": {},
   "outputs": [
    {
     "data": {
      "application/javascript": "IPython.OutputArea.prototype._should_scroll = function(lines) {\n    return false;\n}\n",
      "text/plain": [
       "<IPython.core.display.Javascript object>"
      ]
     },
     "metadata": {},
     "output_type": "display_data"
    }
   ],
   "source": [
    "%%javascript\n",
    "IPython.OutputArea.prototype._should_scroll = function(lines) {\n",
    "    return false;\n",
    "}"
   ]
  },
  {
   "cell_type": "markdown",
   "metadata": {},
   "source": [
    "For the analysis of the finestructure we will take into account a Hamiltonian consisting of an effective Breit-Pauli Hamiltonian (hyperfine Hamiltonian) and the Zeeman Hamiltonian. \n",
    "\n",
    "$$\n",
    "H = H_{hfs} + H_Z\n",
    "$$\n",
    "\n",
    "The hyperfine Hamiltonian for a rovibrational level is given by:\n",
    "\n",
    "$$\n",
    "H_{hfs} = b_F  (\\mathbf{I} \\cdot \\mathbf{S_e}) + c_e  (\\mathbf{L} \\cdot \\mathbf{S_e}) + c_I  (\\mathbf{L} \\cdot \\mathbf{I}) + \\frac{d_1}{(2\\mathbf{L}-1)(2\\mathbf{L}+3)} \\left(\\frac{2}{3}\\mathbf{L}^2(\\mathbf{I}\\cdot\\mathbf{S_e}) - \\left\\{ (\\mathbf{L}\\cdot\\mathbf{I}),(\\mathbf{L}\\cdot\\mathbf{S_e})\\right\\}\\right) + \\frac{d_2}{(2\\mathbf{L}-1)(2\\mathbf{L}+3)} \\left(\\frac{1}{3}\\mathbf{L}^2\\mathbf{I}^2 - \\frac{1}{2}(\\mathbf{L} \\cdot \\mathbf{I}) - (\\mathbf{L} \\cdot \\mathbf{I})^2 \\right)\n",
    "$$\n",
    "\n",
    "where $b_F$, $c_e$, $c_I$, $d_1$ and $d_2$ are  structure constants depending on the ro-vibrational level, which are computed numerically from the non-relativistic Hamiltonian. $\\mathbf{I}$ is the total nuclear spin of the two protons, and $\\mathbf{S_e}$ is the spin of the electron. This Hamiltonian takes into account realtivistic corrections to the first order in perturbation theory.\n",
    "\n",
    "The Zeeman Hamiltonian for a magnetic field $\\mathbf{B}$ is given by:\n",
    "\n",
    "$$\n",
    "H_{Z} = -g_e \\mu_B \\mathbf{S} \\cdot \\mathbf{B} - g_{n} \\mu_N \\mathbf{I} \\cdot \\mathbf{B} - \\mu_B (\\mathbf{L}_1 + \\mathbf{L}_2) \\cdot \\mathbf{B} + \\mu_B \\mathbf{L}_e \\cdot \\mathbf{B}\n",
    "$$\n",
    "\n",
    "where $g_e$ is the g-factor of the electron, $g_{n}$ is the g-factor of the nucleus, $\\mu_B$ is the Bohr magneton, $\\mu_N$ is the nuclear magneton. Again $\\mathbf{S_e}$ is the electron spin, $\\mathbf{I}$ is the nuclear spin. $\\mathbf{L}_1$ and $\\mathbf{L}_2$ are the orbital angular momenta of the two protons, and $\\mathbf{L}_e$ is the orbital angular momentum of the electron.\n",
    "\n",
    "For practical purposes, the basis that we will work with is not the uncoupled $| (\\nu) L, m_L, I, m_I, S_e, m_S \\rangle$. We introduce the total spin of the system $\\mathbf{F}$, which is not an exact quantum number, and the total angular momentum $\\mathbf{J}$.\n",
    "\n",
    "$$\n",
    "\\mathbf{F} = \\mathbf{I} + \\mathbf{S}_e  \\\\\n",
    "\\mathbf{J} = \\mathbf{L} + \\mathbf{F}\n",
    "$$\n",
    "\n",
    "This leads to the coupled basis $| ((\\nu) L, (I, S_e) F) J, M_J \\rangle$. Since $S_e = \\frac{1}{2}$ and $I$ is uniquely determined by $L$ for all bound states, if one considers one ro-vibrational level ($\\nu$, $L$) we write the basis as $|F,J,M_J \\rangle$."
   ]
  },
  {
   "cell_type": "code",
   "execution_count": 3,
   "metadata": {},
   "outputs": [
    {
     "data": {
      "text/markdown": [
       "### Select the rovibrational level:"
      ],
      "text/plain": [
       "<IPython.core.display.Markdown object>"
      ]
     },
     "metadata": {},
     "output_type": "display_data"
    },
    {
     "data": {
      "application/vnd.jupyter.widget-view+json": {
       "model_id": "2112a6b9defb424ba445e8aa3322c3b3",
       "version_major": 2,
       "version_minor": 0
      },
      "text/plain": [
       "Dropdown(description='L:', index=1, options=(0, 1, 2, 3, 4, 5, 6, 7, 8, 9), value=1)"
      ]
     },
     "metadata": {},
     "output_type": "display_data"
    },
    {
     "data": {
      "application/vnd.jupyter.widget-view+json": {
       "model_id": "3265538ecada4f13b41725a883a8b378",
       "version_major": 2,
       "version_minor": 0
      },
      "text/plain": [
       "Dropdown(description='$\\\\nu$:', options=(0, 1, 2, 3, 4, 5, 6, 7, 8, 9, 10), value=0)"
      ]
     },
     "metadata": {},
     "output_type": "display_data"
    },
    {
     "ename": "TypeError",
     "evalue": "update_checkboxes() takes 0 positional arguments but 1 was given",
     "output_type": "error",
     "traceback": [
      "\u001b[1;31m---------------------------------------------------------------------------\u001b[0m",
      "\u001b[1;31mTypeError\u001b[0m                                 Traceback (most recent call last)",
      "File \u001b[1;32mc:\\Anaconda3\\Lib\\site-packages\\ipywidgets\\widgets\\widget.py:676\u001b[0m, in \u001b[0;36mWidget._handle_msg\u001b[1;34m(self, msg)\u001b[0m\n\u001b[0;32m    674\u001b[0m         \u001b[39mif\u001b[39;00m \u001b[39m'\u001b[39m\u001b[39mbuffer_paths\u001b[39m\u001b[39m'\u001b[39m \u001b[39min\u001b[39;00m data:\n\u001b[0;32m    675\u001b[0m             _put_buffers(state, data[\u001b[39m'\u001b[39m\u001b[39mbuffer_paths\u001b[39m\u001b[39m'\u001b[39m], msg[\u001b[39m'\u001b[39m\u001b[39mbuffers\u001b[39m\u001b[39m'\u001b[39m])\n\u001b[1;32m--> 676\u001b[0m         \u001b[39mself\u001b[39m\u001b[39m.\u001b[39mset_state(state)\n\u001b[0;32m    678\u001b[0m \u001b[39m# Handle a state request.\u001b[39;00m\n\u001b[0;32m    679\u001b[0m \u001b[39melif\u001b[39;00m method \u001b[39m==\u001b[39m \u001b[39m'\u001b[39m\u001b[39mrequest_state\u001b[39m\u001b[39m'\u001b[39m:\n",
      "File \u001b[1;32mc:\\Anaconda3\\Lib\\site-packages\\ipywidgets\\widgets\\widget.py:540\u001b[0m, in \u001b[0;36mWidget.set_state\u001b[1;34m(self, sync_data)\u001b[0m\n\u001b[0;32m    536\u001b[0m \u001b[39m\u001b[39m\u001b[39m\"\"\"Called when a state is received from the front-end.\"\"\"\u001b[39;00m\n\u001b[0;32m    537\u001b[0m \u001b[39m# The order of these context managers is important. Properties must\u001b[39;00m\n\u001b[0;32m    538\u001b[0m \u001b[39m# be locked when the hold_trait_notification context manager is\u001b[39;00m\n\u001b[0;32m    539\u001b[0m \u001b[39m# released and notifications are fired.\u001b[39;00m\n\u001b[1;32m--> 540\u001b[0m \u001b[39mwith\u001b[39;00m \u001b[39mself\u001b[39m\u001b[39m.\u001b[39m_lock_property(\u001b[39m*\u001b[39m\u001b[39m*\u001b[39msync_data), \u001b[39mself\u001b[39m\u001b[39m.\u001b[39mhold_trait_notifications():\n\u001b[0;32m    541\u001b[0m     \u001b[39mfor\u001b[39;00m name \u001b[39min\u001b[39;00m sync_data:\n\u001b[0;32m    542\u001b[0m         \u001b[39mif\u001b[39;00m name \u001b[39min\u001b[39;00m \u001b[39mself\u001b[39m\u001b[39m.\u001b[39mkeys:\n",
      "File \u001b[1;32mc:\\Anaconda3\\Lib\\contextlib.py:144\u001b[0m, in \u001b[0;36m_GeneratorContextManager.__exit__\u001b[1;34m(self, typ, value, traceback)\u001b[0m\n\u001b[0;32m    142\u001b[0m \u001b[39mif\u001b[39;00m typ \u001b[39mis\u001b[39;00m \u001b[39mNone\u001b[39;00m:\n\u001b[0;32m    143\u001b[0m     \u001b[39mtry\u001b[39;00m:\n\u001b[1;32m--> 144\u001b[0m         \u001b[39mnext\u001b[39m(\u001b[39mself\u001b[39m\u001b[39m.\u001b[39mgen)\n\u001b[0;32m    145\u001b[0m     \u001b[39mexcept\u001b[39;00m \u001b[39mStopIteration\u001b[39;00m:\n\u001b[0;32m    146\u001b[0m         \u001b[39mreturn\u001b[39;00m \u001b[39mFalse\u001b[39;00m\n",
      "File \u001b[1;32mc:\\Anaconda3\\Lib\\site-packages\\traitlets\\traitlets.py:1498\u001b[0m, in \u001b[0;36mHasTraits.hold_trait_notifications\u001b[1;34m(self)\u001b[0m\n\u001b[0;32m   1496\u001b[0m \u001b[39mfor\u001b[39;00m changes \u001b[39min\u001b[39;00m cache\u001b[39m.\u001b[39mvalues():\n\u001b[0;32m   1497\u001b[0m     \u001b[39mfor\u001b[39;00m change \u001b[39min\u001b[39;00m changes:\n\u001b[1;32m-> 1498\u001b[0m         \u001b[39mself\u001b[39m\u001b[39m.\u001b[39mnotify_change(change)\n",
      "File \u001b[1;32mc:\\Anaconda3\\Lib\\site-packages\\ipywidgets\\widgets\\widget.py:606\u001b[0m, in \u001b[0;36mWidget.notify_change\u001b[1;34m(self, change)\u001b[0m\n\u001b[0;32m    603\u001b[0m     \u001b[39mif\u001b[39;00m name \u001b[39min\u001b[39;00m \u001b[39mself\u001b[39m\u001b[39m.\u001b[39mkeys \u001b[39mand\u001b[39;00m \u001b[39mself\u001b[39m\u001b[39m.\u001b[39m_should_send_property(name, \u001b[39mgetattr\u001b[39m(\u001b[39mself\u001b[39m, name)):\n\u001b[0;32m    604\u001b[0m         \u001b[39m# Send new state to front-end\u001b[39;00m\n\u001b[0;32m    605\u001b[0m         \u001b[39mself\u001b[39m\u001b[39m.\u001b[39msend_state(key\u001b[39m=\u001b[39mname)\n\u001b[1;32m--> 606\u001b[0m \u001b[39msuper\u001b[39m(Widget, \u001b[39mself\u001b[39m)\u001b[39m.\u001b[39mnotify_change(change)\n",
      "File \u001b[1;32mc:\\Anaconda3\\Lib\\site-packages\\traitlets\\traitlets.py:1513\u001b[0m, in \u001b[0;36mHasTraits.notify_change\u001b[1;34m(self, change)\u001b[0m\n\u001b[0;32m   1511\u001b[0m \u001b[39mdef\u001b[39;00m \u001b[39mnotify_change\u001b[39m(\u001b[39mself\u001b[39m, change):\n\u001b[0;32m   1512\u001b[0m \u001b[39m    \u001b[39m\u001b[39m\"\"\"Notify observers of a change event\"\"\"\u001b[39;00m\n\u001b[1;32m-> 1513\u001b[0m     \u001b[39mreturn\u001b[39;00m \u001b[39mself\u001b[39m\u001b[39m.\u001b[39m_notify_observers(change)\n",
      "File \u001b[1;32mc:\\Anaconda3\\Lib\\site-packages\\traitlets\\traitlets.py:1560\u001b[0m, in \u001b[0;36mHasTraits._notify_observers\u001b[1;34m(self, event)\u001b[0m\n\u001b[0;32m   1557\u001b[0m \u001b[39melif\u001b[39;00m \u001b[39misinstance\u001b[39m(c, EventHandler) \u001b[39mand\u001b[39;00m c\u001b[39m.\u001b[39mname \u001b[39mis\u001b[39;00m \u001b[39mnot\u001b[39;00m \u001b[39mNone\u001b[39;00m:\n\u001b[0;32m   1558\u001b[0m     c \u001b[39m=\u001b[39m \u001b[39mgetattr\u001b[39m(\u001b[39mself\u001b[39m, c\u001b[39m.\u001b[39mname)\n\u001b[1;32m-> 1560\u001b[0m c(event)\n",
      "File \u001b[1;32mc:\\Anaconda3\\Lib\\site-packages\\ipywidgets\\widgets\\widget_selection.py:235\u001b[0m, in \u001b[0;36m_Selection._propagate_index\u001b[1;34m(self, change)\u001b[0m\n\u001b[0;32m    233\u001b[0m     \u001b[39mself\u001b[39m\u001b[39m.\u001b[39mlabel \u001b[39m=\u001b[39m label\n\u001b[0;32m    234\u001b[0m \u001b[39mif\u001b[39;00m \u001b[39mself\u001b[39m\u001b[39m.\u001b[39mvalue \u001b[39mis\u001b[39;00m \u001b[39mnot\u001b[39;00m value:\n\u001b[1;32m--> 235\u001b[0m     \u001b[39mself\u001b[39m\u001b[39m.\u001b[39mvalue \u001b[39m=\u001b[39m value\n",
      "File \u001b[1;32mc:\\Anaconda3\\Lib\\site-packages\\traitlets\\traitlets.py:729\u001b[0m, in \u001b[0;36mTraitType.__set__\u001b[1;34m(self, obj, value)\u001b[0m\n\u001b[0;32m    727\u001b[0m     \u001b[39mraise\u001b[39;00m TraitError(\u001b[39m'\u001b[39m\u001b[39mThe \u001b[39m\u001b[39m\"\u001b[39m\u001b[39m%s\u001b[39;00m\u001b[39m\"\u001b[39m\u001b[39m trait is read-only.\u001b[39m\u001b[39m'\u001b[39m \u001b[39m%\u001b[39m \u001b[39mself\u001b[39m\u001b[39m.\u001b[39mname)\n\u001b[0;32m    728\u001b[0m \u001b[39melse\u001b[39;00m:\n\u001b[1;32m--> 729\u001b[0m     \u001b[39mself\u001b[39m\u001b[39m.\u001b[39mset(obj, value)\n",
      "File \u001b[1;32mc:\\Anaconda3\\Lib\\site-packages\\traitlets\\traitlets.py:718\u001b[0m, in \u001b[0;36mTraitType.set\u001b[1;34m(self, obj, value)\u001b[0m\n\u001b[0;32m    714\u001b[0m     silent \u001b[39m=\u001b[39m \u001b[39mFalse\u001b[39;00m\n\u001b[0;32m    715\u001b[0m \u001b[39mif\u001b[39;00m silent \u001b[39mis\u001b[39;00m \u001b[39mnot\u001b[39;00m \u001b[39mTrue\u001b[39;00m:\n\u001b[0;32m    716\u001b[0m     \u001b[39m# we explicitly compare silent to True just in case the equality\u001b[39;00m\n\u001b[0;32m    717\u001b[0m     \u001b[39m# comparison above returns something other than True/False\u001b[39;00m\n\u001b[1;32m--> 718\u001b[0m     obj\u001b[39m.\u001b[39m_notify_trait(\u001b[39mself\u001b[39m\u001b[39m.\u001b[39mname, old_value, new_value)\n",
      "File \u001b[1;32mc:\\Anaconda3\\Lib\\site-packages\\traitlets\\traitlets.py:1501\u001b[0m, in \u001b[0;36mHasTraits._notify_trait\u001b[1;34m(self, name, old_value, new_value)\u001b[0m\n\u001b[0;32m   1500\u001b[0m \u001b[39mdef\u001b[39;00m \u001b[39m_notify_trait\u001b[39m(\u001b[39mself\u001b[39m, name, old_value, new_value):\n\u001b[1;32m-> 1501\u001b[0m     \u001b[39mself\u001b[39m\u001b[39m.\u001b[39mnotify_change(\n\u001b[0;32m   1502\u001b[0m         Bunch(\n\u001b[0;32m   1503\u001b[0m             name\u001b[39m=\u001b[39mname,\n\u001b[0;32m   1504\u001b[0m             old\u001b[39m=\u001b[39mold_value,\n\u001b[0;32m   1505\u001b[0m             new\u001b[39m=\u001b[39mnew_value,\n\u001b[0;32m   1506\u001b[0m             owner\u001b[39m=\u001b[39m\u001b[39mself\u001b[39m,\n\u001b[0;32m   1507\u001b[0m             \u001b[39mtype\u001b[39m\u001b[39m=\u001b[39m\u001b[39m\"\u001b[39m\u001b[39mchange\u001b[39m\u001b[39m\"\u001b[39m,\n\u001b[0;32m   1508\u001b[0m         )\n\u001b[0;32m   1509\u001b[0m     )\n",
      "File \u001b[1;32mc:\\Anaconda3\\Lib\\site-packages\\ipywidgets\\widgets\\widget.py:606\u001b[0m, in \u001b[0;36mWidget.notify_change\u001b[1;34m(self, change)\u001b[0m\n\u001b[0;32m    603\u001b[0m     \u001b[39mif\u001b[39;00m name \u001b[39min\u001b[39;00m \u001b[39mself\u001b[39m\u001b[39m.\u001b[39mkeys \u001b[39mand\u001b[39;00m \u001b[39mself\u001b[39m\u001b[39m.\u001b[39m_should_send_property(name, \u001b[39mgetattr\u001b[39m(\u001b[39mself\u001b[39m, name)):\n\u001b[0;32m    604\u001b[0m         \u001b[39m# Send new state to front-end\u001b[39;00m\n\u001b[0;32m    605\u001b[0m         \u001b[39mself\u001b[39m\u001b[39m.\u001b[39msend_state(key\u001b[39m=\u001b[39mname)\n\u001b[1;32m--> 606\u001b[0m \u001b[39msuper\u001b[39m(Widget, \u001b[39mself\u001b[39m)\u001b[39m.\u001b[39mnotify_change(change)\n",
      "File \u001b[1;32mc:\\Anaconda3\\Lib\\site-packages\\traitlets\\traitlets.py:1513\u001b[0m, in \u001b[0;36mHasTraits.notify_change\u001b[1;34m(self, change)\u001b[0m\n\u001b[0;32m   1511\u001b[0m \u001b[39mdef\u001b[39;00m \u001b[39mnotify_change\u001b[39m(\u001b[39mself\u001b[39m, change):\n\u001b[0;32m   1512\u001b[0m \u001b[39m    \u001b[39m\u001b[39m\"\"\"Notify observers of a change event\"\"\"\u001b[39;00m\n\u001b[1;32m-> 1513\u001b[0m     \u001b[39mreturn\u001b[39;00m \u001b[39mself\u001b[39m\u001b[39m.\u001b[39m_notify_observers(change)\n",
      "File \u001b[1;32mc:\\Anaconda3\\Lib\\site-packages\\traitlets\\traitlets.py:1560\u001b[0m, in \u001b[0;36mHasTraits._notify_observers\u001b[1;34m(self, event)\u001b[0m\n\u001b[0;32m   1557\u001b[0m \u001b[39melif\u001b[39;00m \u001b[39misinstance\u001b[39m(c, EventHandler) \u001b[39mand\u001b[39;00m c\u001b[39m.\u001b[39mname \u001b[39mis\u001b[39;00m \u001b[39mnot\u001b[39;00m \u001b[39mNone\u001b[39;00m:\n\u001b[0;32m   1558\u001b[0m     c \u001b[39m=\u001b[39m \u001b[39mgetattr\u001b[39m(\u001b[39mself\u001b[39m, c\u001b[39m.\u001b[39mname)\n\u001b[1;32m-> 1560\u001b[0m c(event)\n",
      "\u001b[1;31mTypeError\u001b[0m: update_checkboxes() takes 0 positional arguments but 1 was given"
     ]
    },
    {
     "ename": "TypeError",
     "evalue": "update_checkboxes() takes 0 positional arguments but 1 was given",
     "output_type": "error",
     "traceback": [
      "\u001b[1;31m---------------------------------------------------------------------------\u001b[0m",
      "\u001b[1;31mTypeError\u001b[0m                                 Traceback (most recent call last)",
      "File \u001b[1;32mc:\\Anaconda3\\Lib\\site-packages\\ipywidgets\\widgets\\widget.py:676\u001b[0m, in \u001b[0;36mWidget._handle_msg\u001b[1;34m(self, msg)\u001b[0m\n\u001b[0;32m    674\u001b[0m         \u001b[39mif\u001b[39;00m \u001b[39m'\u001b[39m\u001b[39mbuffer_paths\u001b[39m\u001b[39m'\u001b[39m \u001b[39min\u001b[39;00m data:\n\u001b[0;32m    675\u001b[0m             _put_buffers(state, data[\u001b[39m'\u001b[39m\u001b[39mbuffer_paths\u001b[39m\u001b[39m'\u001b[39m], msg[\u001b[39m'\u001b[39m\u001b[39mbuffers\u001b[39m\u001b[39m'\u001b[39m])\n\u001b[1;32m--> 676\u001b[0m         \u001b[39mself\u001b[39m\u001b[39m.\u001b[39mset_state(state)\n\u001b[0;32m    678\u001b[0m \u001b[39m# Handle a state request.\u001b[39;00m\n\u001b[0;32m    679\u001b[0m \u001b[39melif\u001b[39;00m method \u001b[39m==\u001b[39m \u001b[39m'\u001b[39m\u001b[39mrequest_state\u001b[39m\u001b[39m'\u001b[39m:\n",
      "File \u001b[1;32mc:\\Anaconda3\\Lib\\site-packages\\ipywidgets\\widgets\\widget.py:540\u001b[0m, in \u001b[0;36mWidget.set_state\u001b[1;34m(self, sync_data)\u001b[0m\n\u001b[0;32m    536\u001b[0m \u001b[39m\u001b[39m\u001b[39m\"\"\"Called when a state is received from the front-end.\"\"\"\u001b[39;00m\n\u001b[0;32m    537\u001b[0m \u001b[39m# The order of these context managers is important. Properties must\u001b[39;00m\n\u001b[0;32m    538\u001b[0m \u001b[39m# be locked when the hold_trait_notification context manager is\u001b[39;00m\n\u001b[0;32m    539\u001b[0m \u001b[39m# released and notifications are fired.\u001b[39;00m\n\u001b[1;32m--> 540\u001b[0m \u001b[39mwith\u001b[39;00m \u001b[39mself\u001b[39m\u001b[39m.\u001b[39m_lock_property(\u001b[39m*\u001b[39m\u001b[39m*\u001b[39msync_data), \u001b[39mself\u001b[39m\u001b[39m.\u001b[39mhold_trait_notifications():\n\u001b[0;32m    541\u001b[0m     \u001b[39mfor\u001b[39;00m name \u001b[39min\u001b[39;00m sync_data:\n\u001b[0;32m    542\u001b[0m         \u001b[39mif\u001b[39;00m name \u001b[39min\u001b[39;00m \u001b[39mself\u001b[39m\u001b[39m.\u001b[39mkeys:\n",
      "File \u001b[1;32mc:\\Anaconda3\\Lib\\contextlib.py:144\u001b[0m, in \u001b[0;36m_GeneratorContextManager.__exit__\u001b[1;34m(self, typ, value, traceback)\u001b[0m\n\u001b[0;32m    142\u001b[0m \u001b[39mif\u001b[39;00m typ \u001b[39mis\u001b[39;00m \u001b[39mNone\u001b[39;00m:\n\u001b[0;32m    143\u001b[0m     \u001b[39mtry\u001b[39;00m:\n\u001b[1;32m--> 144\u001b[0m         \u001b[39mnext\u001b[39m(\u001b[39mself\u001b[39m\u001b[39m.\u001b[39mgen)\n\u001b[0;32m    145\u001b[0m     \u001b[39mexcept\u001b[39;00m \u001b[39mStopIteration\u001b[39;00m:\n\u001b[0;32m    146\u001b[0m         \u001b[39mreturn\u001b[39;00m \u001b[39mFalse\u001b[39;00m\n",
      "File \u001b[1;32mc:\\Anaconda3\\Lib\\site-packages\\traitlets\\traitlets.py:1498\u001b[0m, in \u001b[0;36mHasTraits.hold_trait_notifications\u001b[1;34m(self)\u001b[0m\n\u001b[0;32m   1496\u001b[0m \u001b[39mfor\u001b[39;00m changes \u001b[39min\u001b[39;00m cache\u001b[39m.\u001b[39mvalues():\n\u001b[0;32m   1497\u001b[0m     \u001b[39mfor\u001b[39;00m change \u001b[39min\u001b[39;00m changes:\n\u001b[1;32m-> 1498\u001b[0m         \u001b[39mself\u001b[39m\u001b[39m.\u001b[39mnotify_change(change)\n",
      "File \u001b[1;32mc:\\Anaconda3\\Lib\\site-packages\\ipywidgets\\widgets\\widget.py:606\u001b[0m, in \u001b[0;36mWidget.notify_change\u001b[1;34m(self, change)\u001b[0m\n\u001b[0;32m    603\u001b[0m     \u001b[39mif\u001b[39;00m name \u001b[39min\u001b[39;00m \u001b[39mself\u001b[39m\u001b[39m.\u001b[39mkeys \u001b[39mand\u001b[39;00m \u001b[39mself\u001b[39m\u001b[39m.\u001b[39m_should_send_property(name, \u001b[39mgetattr\u001b[39m(\u001b[39mself\u001b[39m, name)):\n\u001b[0;32m    604\u001b[0m         \u001b[39m# Send new state to front-end\u001b[39;00m\n\u001b[0;32m    605\u001b[0m         \u001b[39mself\u001b[39m\u001b[39m.\u001b[39msend_state(key\u001b[39m=\u001b[39mname)\n\u001b[1;32m--> 606\u001b[0m \u001b[39msuper\u001b[39m(Widget, \u001b[39mself\u001b[39m)\u001b[39m.\u001b[39mnotify_change(change)\n",
      "File \u001b[1;32mc:\\Anaconda3\\Lib\\site-packages\\traitlets\\traitlets.py:1513\u001b[0m, in \u001b[0;36mHasTraits.notify_change\u001b[1;34m(self, change)\u001b[0m\n\u001b[0;32m   1511\u001b[0m \u001b[39mdef\u001b[39;00m \u001b[39mnotify_change\u001b[39m(\u001b[39mself\u001b[39m, change):\n\u001b[0;32m   1512\u001b[0m \u001b[39m    \u001b[39m\u001b[39m\"\"\"Notify observers of a change event\"\"\"\u001b[39;00m\n\u001b[1;32m-> 1513\u001b[0m     \u001b[39mreturn\u001b[39;00m \u001b[39mself\u001b[39m\u001b[39m.\u001b[39m_notify_observers(change)\n",
      "File \u001b[1;32mc:\\Anaconda3\\Lib\\site-packages\\traitlets\\traitlets.py:1560\u001b[0m, in \u001b[0;36mHasTraits._notify_observers\u001b[1;34m(self, event)\u001b[0m\n\u001b[0;32m   1557\u001b[0m \u001b[39melif\u001b[39;00m \u001b[39misinstance\u001b[39m(c, EventHandler) \u001b[39mand\u001b[39;00m c\u001b[39m.\u001b[39mname \u001b[39mis\u001b[39;00m \u001b[39mnot\u001b[39;00m \u001b[39mNone\u001b[39;00m:\n\u001b[0;32m   1558\u001b[0m     c \u001b[39m=\u001b[39m \u001b[39mgetattr\u001b[39m(\u001b[39mself\u001b[39m, c\u001b[39m.\u001b[39mname)\n\u001b[1;32m-> 1560\u001b[0m c(event)\n",
      "File \u001b[1;32mc:\\Anaconda3\\Lib\\site-packages\\ipywidgets\\widgets\\widget_selection.py:235\u001b[0m, in \u001b[0;36m_Selection._propagate_index\u001b[1;34m(self, change)\u001b[0m\n\u001b[0;32m    233\u001b[0m     \u001b[39mself\u001b[39m\u001b[39m.\u001b[39mlabel \u001b[39m=\u001b[39m label\n\u001b[0;32m    234\u001b[0m \u001b[39mif\u001b[39;00m \u001b[39mself\u001b[39m\u001b[39m.\u001b[39mvalue \u001b[39mis\u001b[39;00m \u001b[39mnot\u001b[39;00m value:\n\u001b[1;32m--> 235\u001b[0m     \u001b[39mself\u001b[39m\u001b[39m.\u001b[39mvalue \u001b[39m=\u001b[39m value\n",
      "File \u001b[1;32mc:\\Anaconda3\\Lib\\site-packages\\traitlets\\traitlets.py:729\u001b[0m, in \u001b[0;36mTraitType.__set__\u001b[1;34m(self, obj, value)\u001b[0m\n\u001b[0;32m    727\u001b[0m     \u001b[39mraise\u001b[39;00m TraitError(\u001b[39m'\u001b[39m\u001b[39mThe \u001b[39m\u001b[39m\"\u001b[39m\u001b[39m%s\u001b[39;00m\u001b[39m\"\u001b[39m\u001b[39m trait is read-only.\u001b[39m\u001b[39m'\u001b[39m \u001b[39m%\u001b[39m \u001b[39mself\u001b[39m\u001b[39m.\u001b[39mname)\n\u001b[0;32m    728\u001b[0m \u001b[39melse\u001b[39;00m:\n\u001b[1;32m--> 729\u001b[0m     \u001b[39mself\u001b[39m\u001b[39m.\u001b[39mset(obj, value)\n",
      "File \u001b[1;32mc:\\Anaconda3\\Lib\\site-packages\\traitlets\\traitlets.py:718\u001b[0m, in \u001b[0;36mTraitType.set\u001b[1;34m(self, obj, value)\u001b[0m\n\u001b[0;32m    714\u001b[0m     silent \u001b[39m=\u001b[39m \u001b[39mFalse\u001b[39;00m\n\u001b[0;32m    715\u001b[0m \u001b[39mif\u001b[39;00m silent \u001b[39mis\u001b[39;00m \u001b[39mnot\u001b[39;00m \u001b[39mTrue\u001b[39;00m:\n\u001b[0;32m    716\u001b[0m     \u001b[39m# we explicitly compare silent to True just in case the equality\u001b[39;00m\n\u001b[0;32m    717\u001b[0m     \u001b[39m# comparison above returns something other than True/False\u001b[39;00m\n\u001b[1;32m--> 718\u001b[0m     obj\u001b[39m.\u001b[39m_notify_trait(\u001b[39mself\u001b[39m\u001b[39m.\u001b[39mname, old_value, new_value)\n",
      "File \u001b[1;32mc:\\Anaconda3\\Lib\\site-packages\\traitlets\\traitlets.py:1501\u001b[0m, in \u001b[0;36mHasTraits._notify_trait\u001b[1;34m(self, name, old_value, new_value)\u001b[0m\n\u001b[0;32m   1500\u001b[0m \u001b[39mdef\u001b[39;00m \u001b[39m_notify_trait\u001b[39m(\u001b[39mself\u001b[39m, name, old_value, new_value):\n\u001b[1;32m-> 1501\u001b[0m     \u001b[39mself\u001b[39m\u001b[39m.\u001b[39mnotify_change(\n\u001b[0;32m   1502\u001b[0m         Bunch(\n\u001b[0;32m   1503\u001b[0m             name\u001b[39m=\u001b[39mname,\n\u001b[0;32m   1504\u001b[0m             old\u001b[39m=\u001b[39mold_value,\n\u001b[0;32m   1505\u001b[0m             new\u001b[39m=\u001b[39mnew_value,\n\u001b[0;32m   1506\u001b[0m             owner\u001b[39m=\u001b[39m\u001b[39mself\u001b[39m,\n\u001b[0;32m   1507\u001b[0m             \u001b[39mtype\u001b[39m\u001b[39m=\u001b[39m\u001b[39m\"\u001b[39m\u001b[39mchange\u001b[39m\u001b[39m\"\u001b[39m,\n\u001b[0;32m   1508\u001b[0m         )\n\u001b[0;32m   1509\u001b[0m     )\n",
      "File \u001b[1;32mc:\\Anaconda3\\Lib\\site-packages\\ipywidgets\\widgets\\widget.py:606\u001b[0m, in \u001b[0;36mWidget.notify_change\u001b[1;34m(self, change)\u001b[0m\n\u001b[0;32m    603\u001b[0m     \u001b[39mif\u001b[39;00m name \u001b[39min\u001b[39;00m \u001b[39mself\u001b[39m\u001b[39m.\u001b[39mkeys \u001b[39mand\u001b[39;00m \u001b[39mself\u001b[39m\u001b[39m.\u001b[39m_should_send_property(name, \u001b[39mgetattr\u001b[39m(\u001b[39mself\u001b[39m, name)):\n\u001b[0;32m    604\u001b[0m         \u001b[39m# Send new state to front-end\u001b[39;00m\n\u001b[0;32m    605\u001b[0m         \u001b[39mself\u001b[39m\u001b[39m.\u001b[39msend_state(key\u001b[39m=\u001b[39mname)\n\u001b[1;32m--> 606\u001b[0m \u001b[39msuper\u001b[39m(Widget, \u001b[39mself\u001b[39m)\u001b[39m.\u001b[39mnotify_change(change)\n",
      "File \u001b[1;32mc:\\Anaconda3\\Lib\\site-packages\\traitlets\\traitlets.py:1513\u001b[0m, in \u001b[0;36mHasTraits.notify_change\u001b[1;34m(self, change)\u001b[0m\n\u001b[0;32m   1511\u001b[0m \u001b[39mdef\u001b[39;00m \u001b[39mnotify_change\u001b[39m(\u001b[39mself\u001b[39m, change):\n\u001b[0;32m   1512\u001b[0m \u001b[39m    \u001b[39m\u001b[39m\"\"\"Notify observers of a change event\"\"\"\u001b[39;00m\n\u001b[1;32m-> 1513\u001b[0m     \u001b[39mreturn\u001b[39;00m \u001b[39mself\u001b[39m\u001b[39m.\u001b[39m_notify_observers(change)\n",
      "File \u001b[1;32mc:\\Anaconda3\\Lib\\site-packages\\traitlets\\traitlets.py:1560\u001b[0m, in \u001b[0;36mHasTraits._notify_observers\u001b[1;34m(self, event)\u001b[0m\n\u001b[0;32m   1557\u001b[0m \u001b[39melif\u001b[39;00m \u001b[39misinstance\u001b[39m(c, EventHandler) \u001b[39mand\u001b[39;00m c\u001b[39m.\u001b[39mname \u001b[39mis\u001b[39;00m \u001b[39mnot\u001b[39;00m \u001b[39mNone\u001b[39;00m:\n\u001b[0;32m   1558\u001b[0m     c \u001b[39m=\u001b[39m \u001b[39mgetattr\u001b[39m(\u001b[39mself\u001b[39m, c\u001b[39m.\u001b[39mname)\n\u001b[1;32m-> 1560\u001b[0m c(event)\n",
      "\u001b[1;31mTypeError\u001b[0m: update_checkboxes() takes 0 positional arguments but 1 was given"
     ]
    }
   ],
   "source": [
    "# Define the range of rovibrational levels\n",
    "L_values = [0, 1, 2, 3, 4, 5, 6, 7, 8, 9]  # L values for which coefficients are implemented\n",
    "nu_values = {0: list(range(0, 4)), 1: list(range(0, 11)), 2: list(range(0, 4)), 3: list(range(0, 11)), 4: list(range(0, 4)), 5: [0], 6: list(range(0, 4)), 7: [0], 8: list(range(0, 4)), 9: [0]}  # nu values for each L\n",
    "\n",
    "# Create dropdown widgets for L and nu\n",
    "L_dropdown = Dropdown(options=L_values, description='L:', value=1)\n",
    "nu_dropdown = Dropdown(options=nu_values[L_dropdown.value], description='$\\\\nu$:')\n",
    "\n",
    "display(Markdown('### Select the rovibrational level:'))\n",
    "display(L_dropdown, nu_dropdown)\n"
   ]
  },
  {
   "cell_type": "code",
   "execution_count": 4,
   "metadata": {},
   "outputs": [
    {
     "data": {
      "text/markdown": [
       "## Breit-Rabi Diagram  \n",
       "Plot the different hyperfine energy levels of a rovibrational level ($\\mathbf{{\\nu}},\\mathbf{{L}}$)                  against the magnetic field for the selected range. If wanted, one can separate the energy levels                that would correspond to the quantum numbers $|\\mathbf{{F}},\\mathbf{{J}}\\rangle$                 for the case of $\\mathbf{{B}}=0$ into different plots. \n",
       "                 If desired the derivatives of the energy levels can be plotted as well."
      ],
      "text/plain": [
       "<IPython.core.display.Markdown object>"
      ]
     },
     "metadata": {},
     "output_type": "display_data"
    },
    {
     "data": {
      "application/vnd.jupyter.widget-view+json": {
       "model_id": "0550f209347845f6909aeba67213bb58",
       "version_major": 2,
       "version_minor": 0
      },
      "text/plain": [
       "Checkbox(value=True, description='F=1/2, J=1/2')"
      ]
     },
     "metadata": {},
     "output_type": "display_data"
    },
    {
     "data": {
      "application/vnd.jupyter.widget-view+json": {
       "model_id": "a3acba881edb4edfa18b0762194bea70",
       "version_major": 2,
       "version_minor": 0
      },
      "text/plain": [
       "Checkbox(value=True, description='F=1/2, J=3/2')"
      ]
     },
     "metadata": {},
     "output_type": "display_data"
    },
    {
     "data": {
      "application/vnd.jupyter.widget-view+json": {
       "model_id": "03f7d90543a24d8b9cda41a491a0dd46",
       "version_major": 2,
       "version_minor": 0
      },
      "text/plain": [
       "Checkbox(value=True, description='F=3/2, J=1/2')"
      ]
     },
     "metadata": {},
     "output_type": "display_data"
    },
    {
     "data": {
      "application/vnd.jupyter.widget-view+json": {
       "model_id": "8359e37d601646d18fb5619e2a9adff1",
       "version_major": 2,
       "version_minor": 0
      },
      "text/plain": [
       "Checkbox(value=True, description='F=3/2, J=3/2')"
      ]
     },
     "metadata": {},
     "output_type": "display_data"
    },
    {
     "data": {
      "application/vnd.jupyter.widget-view+json": {
       "model_id": "e6f755e444ff4259b74c856dbc150075",
       "version_major": 2,
       "version_minor": 0
      },
      "text/plain": [
       "Checkbox(value=True, description='F=3/2, J=5/2')"
      ]
     },
     "metadata": {},
     "output_type": "display_data"
    },
    {
     "data": {
      "application/vnd.jupyter.widget-view+json": {
       "model_id": "f0b74d4714834ec89fda6d91afb472ce",
       "version_major": 2,
       "version_minor": 0
      },
      "text/plain": [
       "interactive(children=(FloatLogSlider(value=0.001, continuous_update=False, description='$\\\\mathbf{{B}}_{{max}}…"
      ]
     },
     "metadata": {},
     "output_type": "display_data"
    },
    {
     "data": {
      "text/markdown": [
       "# The eigenstates in detail for fixed B field"
      ],
      "text/plain": [
       "<IPython.core.display.Markdown object>"
      ]
     },
     "metadata": {},
     "output_type": "display_data"
    }
   ],
   "source": [
    "L_ = L_dropdown.value\n",
    "nu_ = nu_dropdown.value\n",
    "\n",
    "# Function to update nu_dropdown options based on L_dropdown value\n",
    "def update_nu_options(*args):\n",
    "    nu_dropdown.options = nu_values[L_dropdown.value]\n",
    "\n",
    "# Update nu_dropdown options when L_dropdown value changes\n",
    "L_dropdown.observe(update_nu_options, 'value')\n",
    "\n",
    "# Create a logarithmic slider for B_max\n",
    "B_max_slider = FloatLogSlider(\n",
    "    value=1e-3,  # initial value\n",
    "    base=10,  # base of the logarithm\n",
    "    min=-7,  # minimum exponent of base\n",
    "    max=1,  # maximum exponent of base\n",
    "    step=0.2,  # exponent step\n",
    "    description='$\\mathbf{{B}}_{{max}}$:',\n",
    "    continuous_update=False  # update the value only when the user releases the slider handle\n",
    ")\n",
    "\n",
    "# Create an integer input for num_points\n",
    "num_points_input = IntText(\n",
    "    value=10000,  # initial value\n",
    "    description='Points:',\n",
    "    continuous_update=False  # update the value only when the user finishes editing the text\n",
    ")\n",
    "\n",
    "\n",
    "display(Markdown(f'## Breit-Rabi Diagram  \\n' \\\n",
    "                 'Plot the different hyperfine energy levels of a rovibrational level ($\\\\mathbf{{\\\\nu}},\\\\mathbf{{L}}$) \\\n",
    "                 against the magnetic field for the selected range. If wanted, one can separate the energy levels\\\n",
    "                that would correspond to the quantum numbers $|\\\\mathbf{{F}},\\\\mathbf{{J}}\\\\rangle$ \\\n",
    "                for the case of $\\\\mathbf{{B}}=0$ into different plots. \\n \\\n",
    "                If desired the derivatives of the energy levels can be plotted as well.'))\n",
    "\n",
    "# Create a checkbox for separate\n",
    "separate_checkbox = Checkbox(\n",
    "    value=False,  # initial value\n",
    "    description='Separate',\n",
    "    disabled=False\n",
    ")\n",
    "\n",
    "# Create a checkbox for derivatives\n",
    "derivatives_checkbox = Checkbox(\n",
    "    value=True,  # initial value\n",
    "    description='Derivatives',\n",
    "    disabled=False\n",
    ")\n",
    "\n",
    "## Function to link the state of the checkboxes\n",
    "#def link_checkboxes(change):\n",
    "#    if change['new']:  # If the Derivatives checkbox is checked\n",
    "#        separate_checkbox.value = True  # Check the Separate checkbox\n",
    "#\n",
    "## Observe the state of the Derivatives checkbox\n",
    "#derivatives_checkbox.observe(link_checkboxes, names='value')\n",
    "\n",
    "# Create a dictionary to store the checkboxes and their corresponding indices\n",
    "checkboxes = {}\n",
    "FJ_indices = []\n",
    "\n",
    "# Function to update FJ_indices based on checkbox states\n",
    "def update_FJ_indices(change):\n",
    "    if change['new']:  # If the checkbox is checked\n",
    "        if checkboxes[change['owner']] not in FJ_indices:\n",
    "            FJ_indices.append(checkboxes[change['owner']])\n",
    "    else:  # If the checkbox is unchecked\n",
    "        if checkboxes[change['owner']] in FJ_indices:\n",
    "            FJ_indices.remove(checkboxes[change['owner']])\n",
    "\n",
    "# Function to update checkboxes based on L_dropdown value\n",
    "def update_checkboxes():\n",
    "    # Get the current checkbox states\n",
    "    current_states = {i: checkbox.value for checkbox, i in checkboxes.items()}\n",
    "\n",
    "    # Clear the current checkboxes and FJ_indices\n",
    "    checkboxes.clear()\n",
    "    FJ_indices.clear()\n",
    "\n",
    "    # Get the new FJ_states\n",
    "    FJ_states = states_FJ(L_)\n",
    "\n",
    "    # Create checkboxes for each F, J state\n",
    "    for i, (F, J) in enumerate(FJ_states):\n",
    "        checkbox = Checkbox(\n",
    "            value=current_states.get(i, True),  # initial value is the current state if it exists, otherwise True\n",
    "            description=f'F={F}, J={J}',\n",
    "            disabled=False\n",
    "        )\n",
    "        checkbox.observe(update_FJ_indices, names='value')\n",
    "        checkboxes[checkbox] = i\n",
    "\n",
    "    # Display the new checkboxes\n",
    "    for checkbox in checkboxes:\n",
    "        display(checkbox)\n",
    "\n",
    "# Update checkboxes when L_dropdown value changes\n",
    "L_dropdown.observe(update_checkboxes, 'value')\n",
    "\n",
    "# Initialize the checkboxes\n",
    "update_checkboxes()\n",
    "\n",
    "# Function to wrap around plot_eigenenergies to allow for manual interaction\n",
    "def plot_eigenenergies_selected_FJ_wrapper(B_max, number_points_B, separate, show_derivatives):\n",
    "    # Get the current checkbox values\n",
    "    FJ_indices = [i for checkbox, i in checkboxes.items() if checkbox.value]\n",
    "    \n",
    "    # Call plot_eigenenergies_selected_FJ with the current checkbox values\n",
    "    plot_eigenenergies(nu_, L_, B_max, FJ_indices, number_points_B, separate, show_derivatives)\n",
    "\n",
    "# Use interact_manual to create a button that calls plot_eigenenergies_selected_FJ_wrapper with the current widget values\n",
    "interact_manual(plot_eigenenergies_selected_FJ_wrapper, B_max=B_max_slider, number_points_B=num_points_input, separate=separate_checkbox, show_derivatives=derivatives_checkbox);\n",
    "\n",
    "\n",
    "display(Markdown('# The eigenstates in detail for fixed B field'))\n"
   ]
  },
  {
   "cell_type": "code",
   "execution_count": 14,
   "metadata": {},
   "outputs": [
    {
     "data": {
      "text/html": [
       "<style type=\"text/css\">\n",
       "#T_d821f td {\n",
       "  border: 1px solid black;\n",
       "  text-align: center;\n",
       "  width: 100px;\n",
       "}\n",
       "#T_d821f_row4_col0, #T_d821f_row4_col1, #T_d821f_row4_col2, #T_d821f_row4_col3 {\n",
       "  background-color: blue;\n",
       "  color: blue;\n",
       "}\n",
       "#T_d821f_row4_col4, #T_d821f_row4_col5, #T_d821f_row4_col6, #T_d821f_row4_col7, #T_d821f_row4_col8, #T_d821f_row4_col9 {\n",
       "  background-color: red;\n",
       "  color: red;\n",
       "}\n",
       "</style>\n",
       "<table id=\"T_d821f\">\n",
       "  <thead>\n",
       "    <tr>\n",
       "      <th class=\"blank level0\" >&nbsp;</th>\n",
       "      <th id=\"T_d821f_level0_col0\" class=\"col_heading level0 col0\" >0</th>\n",
       "      <th id=\"T_d821f_level0_col1\" class=\"col_heading level0 col1\" >1</th>\n",
       "      <th id=\"T_d821f_level0_col2\" class=\"col_heading level0 col2\" >2</th>\n",
       "      <th id=\"T_d821f_level0_col3\" class=\"col_heading level0 col3\" >3</th>\n",
       "      <th id=\"T_d821f_level0_col4\" class=\"col_heading level0 col4\" >4</th>\n",
       "      <th id=\"T_d821f_level0_col5\" class=\"col_heading level0 col5\" >5</th>\n",
       "      <th id=\"T_d821f_level0_col6\" class=\"col_heading level0 col6\" >6</th>\n",
       "      <th id=\"T_d821f_level0_col7\" class=\"col_heading level0 col7\" >7</th>\n",
       "      <th id=\"T_d821f_level0_col8\" class=\"col_heading level0 col8\" >8</th>\n",
       "      <th id=\"T_d821f_level0_col9\" class=\"col_heading level0 col9\" >9</th>\n",
       "    </tr>\n",
       "  </thead>\n",
       "  <tbody>\n",
       "    <tr>\n",
       "      <th id=\"T_d821f_level0_row0\" class=\"row_heading level0 row0\" >Column</th>\n",
       "      <td id=\"T_d821f_row0_col0\" class=\"data row0 col0\" >0</td>\n",
       "      <td id=\"T_d821f_row0_col1\" class=\"data row0 col1\" >1</td>\n",
       "      <td id=\"T_d821f_row0_col2\" class=\"data row0 col2\" >2</td>\n",
       "      <td id=\"T_d821f_row0_col3\" class=\"data row0 col3\" >3</td>\n",
       "      <td id=\"T_d821f_row0_col4\" class=\"data row0 col4\" >4</td>\n",
       "      <td id=\"T_d821f_row0_col5\" class=\"data row0 col5\" >5</td>\n",
       "      <td id=\"T_d821f_row0_col6\" class=\"data row0 col6\" >6</td>\n",
       "      <td id=\"T_d821f_row0_col7\" class=\"data row0 col7\" >7</td>\n",
       "      <td id=\"T_d821f_row0_col8\" class=\"data row0 col8\" >8</td>\n",
       "      <td id=\"T_d821f_row0_col9\" class=\"data row0 col9\" >9</td>\n",
       "    </tr>\n",
       "    <tr>\n",
       "      <th id=\"T_d821f_level0_row1\" class=\"row_heading level0 row1\" >$F$</th>\n",
       "      <td id=\"T_d821f_row1_col0\" class=\"data row1 col0\" >$\\frac{1}{2}$</td>\n",
       "      <td id=\"T_d821f_row1_col1\" class=\"data row1 col1\" >$\\frac{1}{2}$</td>\n",
       "      <td id=\"T_d821f_row1_col2\" class=\"data row1 col2\" >$\\frac{1}{2}$</td>\n",
       "      <td id=\"T_d821f_row1_col3\" class=\"data row1 col3\" >$\\frac{1}{2}$</td>\n",
       "      <td id=\"T_d821f_row1_col4\" class=\"data row1 col4\" >$\\frac{1}{2}$</td>\n",
       "      <td id=\"T_d821f_row1_col5\" class=\"data row1 col5\" >$\\frac{1}{2}$</td>\n",
       "      <td id=\"T_d821f_row1_col6\" class=\"data row1 col6\" >$\\frac{1}{2}$</td>\n",
       "      <td id=\"T_d821f_row1_col7\" class=\"data row1 col7\" >$\\frac{1}{2}$</td>\n",
       "      <td id=\"T_d821f_row1_col8\" class=\"data row1 col8\" >$\\frac{1}{2}$</td>\n",
       "      <td id=\"T_d821f_row1_col9\" class=\"data row1 col9\" >$\\frac{1}{2}$</td>\n",
       "    </tr>\n",
       "    <tr>\n",
       "      <th id=\"T_d821f_level0_row2\" class=\"row_heading level0 row2\" >$J$</th>\n",
       "      <td id=\"T_d821f_row2_col0\" class=\"data row2 col0\" >$\\frac{3}{2}$</td>\n",
       "      <td id=\"T_d821f_row2_col1\" class=\"data row2 col1\" >$\\frac{3}{2}$</td>\n",
       "      <td id=\"T_d821f_row2_col2\" class=\"data row2 col2\" >$\\frac{3}{2}$</td>\n",
       "      <td id=\"T_d821f_row2_col3\" class=\"data row2 col3\" >$\\frac{3}{2}$</td>\n",
       "      <td id=\"T_d821f_row2_col4\" class=\"data row2 col4\" >$\\frac{5}{2}$</td>\n",
       "      <td id=\"T_d821f_row2_col5\" class=\"data row2 col5\" >$\\frac{5}{2}$</td>\n",
       "      <td id=\"T_d821f_row2_col6\" class=\"data row2 col6\" >$\\frac{5}{2}$</td>\n",
       "      <td id=\"T_d821f_row2_col7\" class=\"data row2 col7\" >$\\frac{5}{2}$</td>\n",
       "      <td id=\"T_d821f_row2_col8\" class=\"data row2 col8\" >$\\frac{5}{2}$</td>\n",
       "      <td id=\"T_d821f_row2_col9\" class=\"data row2 col9\" >$\\frac{5}{2}$</td>\n",
       "    </tr>\n",
       "    <tr>\n",
       "      <th id=\"T_d821f_level0_row3\" class=\"row_heading level0 row3\" >$M_J$</th>\n",
       "      <td id=\"T_d821f_row3_col0\" class=\"data row3 col0\" >$-\\frac{3}{2}$</td>\n",
       "      <td id=\"T_d821f_row3_col1\" class=\"data row3 col1\" >$-\\frac{1}{2}$</td>\n",
       "      <td id=\"T_d821f_row3_col2\" class=\"data row3 col2\" >$\\frac{1}{2}$</td>\n",
       "      <td id=\"T_d821f_row3_col3\" class=\"data row3 col3\" >$\\frac{3}{2}$</td>\n",
       "      <td id=\"T_d821f_row3_col4\" class=\"data row3 col4\" >$-\\frac{5}{2}$</td>\n",
       "      <td id=\"T_d821f_row3_col5\" class=\"data row3 col5\" >$-\\frac{3}{2}$</td>\n",
       "      <td id=\"T_d821f_row3_col6\" class=\"data row3 col6\" >$-\\frac{1}{2}$</td>\n",
       "      <td id=\"T_d821f_row3_col7\" class=\"data row3 col7\" >$\\frac{1}{2}$</td>\n",
       "      <td id=\"T_d821f_row3_col8\" class=\"data row3 col8\" >$\\frac{3}{2}$</td>\n",
       "      <td id=\"T_d821f_row3_col9\" class=\"data row3 col9\" >$\\frac{5}{2}$</td>\n",
       "    </tr>\n",
       "    <tr>\n",
       "      <th id=\"T_d821f_level0_row4\" class=\"row_heading level0 row4\" >Color</th>\n",
       "      <td id=\"T_d821f_row4_col0\" class=\"data row4 col0\" >b</td>\n",
       "      <td id=\"T_d821f_row4_col1\" class=\"data row4 col1\" >b</td>\n",
       "      <td id=\"T_d821f_row4_col2\" class=\"data row4 col2\" >b</td>\n",
       "      <td id=\"T_d821f_row4_col3\" class=\"data row4 col3\" >b</td>\n",
       "      <td id=\"T_d821f_row4_col4\" class=\"data row4 col4\" >r</td>\n",
       "      <td id=\"T_d821f_row4_col5\" class=\"data row4 col5\" >r</td>\n",
       "      <td id=\"T_d821f_row4_col6\" class=\"data row4 col6\" >r</td>\n",
       "      <td id=\"T_d821f_row4_col7\" class=\"data row4 col7\" >r</td>\n",
       "      <td id=\"T_d821f_row4_col8\" class=\"data row4 col8\" >r</td>\n",
       "      <td id=\"T_d821f_row4_col9\" class=\"data row4 col9\" >r</td>\n",
       "    </tr>\n",
       "    <tr>\n",
       "      <th id=\"T_d821f_level0_row5\" class=\"row_heading level0 row5\" >Energy [MHz]</th>\n",
       "      <td id=\"T_d821f_row5_col0\" class=\"data row5 col0\" >-59.715760</td>\n",
       "      <td id=\"T_d821f_row5_col1\" class=\"data row5 col1\" >-62.352117</td>\n",
       "      <td id=\"T_d821f_row5_col2\" class=\"data row5 col2\" >-64.860973</td>\n",
       "      <td id=\"T_d821f_row5_col3\" class=\"data row5 col3\" >-67.259232</td>\n",
       "      <td id=\"T_d821f_row5_col4\" class=\"data row5 col4\" >35.864216</td>\n",
       "      <td id=\"T_d821f_row5_col5\" class=\"data row5 col5\" >38.643466</td>\n",
       "      <td id=\"T_d821f_row5_col6\" class=\"data row5 col6\" >41.273512</td>\n",
       "      <td id=\"T_d821f_row5_col7\" class=\"data row5 col7\" >43.776058</td>\n",
       "      <td id=\"T_d821f_row5_col8\" class=\"data row5 col8\" >46.168006</td>\n",
       "      <td id=\"T_d821f_row5_col9\" class=\"data row5 col9\" >48.462824</td>\n",
       "    </tr>\n",
       "    <tr>\n",
       "      <th id=\"T_d821f_level0_row6\" class=\"row_heading level0 row6\" >Coefficient Squared</th>\n",
       "      <td id=\"T_d821f_row6_col0\" class=\"data row6 col0\" >0.997361</td>\n",
       "      <td id=\"T_d821f_row6_col1\" class=\"data row6 col1\" >0.996431</td>\n",
       "      <td id=\"T_d821f_row6_col2\" class=\"data row6 col2\" >0.996754</td>\n",
       "      <td id=\"T_d821f_row6_col3\" class=\"data row6 col3\" >0.998017</td>\n",
       "      <td id=\"T_d821f_row6_col4\" class=\"data row6 col4\" >1.000000</td>\n",
       "      <td id=\"T_d821f_row6_col5\" class=\"data row6 col5\" >0.997361</td>\n",
       "      <td id=\"T_d821f_row6_col6\" class=\"data row6 col6\" >0.996431</td>\n",
       "      <td id=\"T_d821f_row6_col7\" class=\"data row6 col7\" >0.996754</td>\n",
       "      <td id=\"T_d821f_row6_col8\" class=\"data row6 col8\" >0.998017</td>\n",
       "      <td id=\"T_d821f_row6_col9\" class=\"data row6 col9\" >1.000000</td>\n",
       "    </tr>\n",
       "  </tbody>\n",
       "</table>\n"
      ],
      "text/plain": [
       "<pandas.io.formats.style.Styler at 0x29429f60c90>"
      ]
     },
     "metadata": {},
     "output_type": "display_data"
    },
    {
     "data": {
      "text/markdown": [
       "## Hyperfine transitions at fixed B field"
      ],
      "text/plain": [
       "<IPython.core.display.Markdown object>"
      ]
     },
     "metadata": {},
     "output_type": "display_data"
    },
    {
     "data": {
      "application/vnd.jupyter.widget-view+json": {
       "model_id": "0062d25261934ff38d60a723ebcc0770",
       "version_major": 2,
       "version_minor": 0
      },
      "text/plain": [
       "interactive(children=(Dropdown(description='$\\\\nu$:', options=(0, 1, 2, 3, 4, 5, 6, 7, 8, 9, 10), value=0), Dr…"
      ]
     },
     "metadata": {},
     "output_type": "display_data"
    },
    {
     "data": {
      "text/plain": [
       "<function H2plus_functions.table_hf_transitions(nu, L, B, prob_threshold=0.001, sensitivity_threshold=None)>"
      ]
     },
     "execution_count": 14,
     "metadata": {},
     "output_type": "execute_result"
    }
   ],
   "source": [
    "L_dropdown_transitions = Dropdown(options=L_values, description='L:', value=1)\n",
    "nu_dropdown_transitions = Dropdown(options=nu_values[L_dropdown_transitions.value], description='$\\\\nu$:')\n",
    "\n",
    "# Create a FloatLogSlider\n",
    "slider_B = FloatLogSlider(\n",
    "    value=450e-6,  # initial value\n",
    "    base=10,  # base of the logarithm\n",
    "    min=-6,  # min exponent of base\n",
    "    max=1,  # max exponent of base\n",
    "    step=0.2,  # exponent step\n",
    "    description='B'\n",
    ")\n",
    "\n",
    "sensitivity_options = [None] + list(range(0, 1501, 100))  # Creates a list with None and numbers from 0 to 1500\n",
    "sensitivity_dropdown = Dropdown(options=sensitivity_options, description='Sensitivity threshold:')\n",
    "\n",
    "\n",
    "table_eigenstates(nu_dropdown.value, L_dropdown.value, slider_B.value)\n",
    "\n",
    "display(Markdown('## Hyperfine transitions at fixed B field'))\n",
    "\n",
    "# Set max rows displayed to None to display all rows\n",
    "pd.set_option('display.max_rows', None)\n",
    "\n",
    "interact(table_hf_transitions, B=slider_B, L=L_dropdown_transitions, nu=nu_dropdown_transitions, prob_treshold=fixed(1e-5), sensitivity_threshold=sensitivity_dropdown)\n"
   ]
  },
  {
   "cell_type": "code",
   "execution_count": 15,
   "metadata": {},
   "outputs": [
    {
     "data": {
      "application/vnd.jupyter.widget-view+json": {
       "model_id": "7d49928573a84f218cb5e69e16cf2b11",
       "version_major": 2,
       "version_minor": 0
      },
      "text/plain": [
       "interactive(children=(Dropdown(description='$\\\\nu$:', options=(0, 1, 2, 3, 4, 5, 6, 7, 8, 9, 10), value=0), Dr…"
      ]
     },
     "metadata": {},
     "output_type": "display_data"
    },
    {
     "data": {
      "text/plain": [
       "<function H2plus_functions.table_insensitive_hf_transitions(nu, L, Bmin, Bmax, samples=1000, prob_threshold=0.001, sensitivity_threshold=1)>"
      ]
     },
     "execution_count": 15,
     "metadata": {},
     "output_type": "execute_result"
    }
   ],
   "source": [
    "L_hf_dropdown = Dropdown(options=L_values, description='L:', value=1)\n",
    "nu_hf_dropdown = Dropdown(options=nu_values[L_hf_dropdown.value], description='$\\\\nu$:')\n",
    "\n",
    "B_min_hf = FloatLogSlider(\n",
    "    value=1e-6,  # initial value\n",
    "    base=10,  # base of the logarithm\n",
    "    min=-9,  # minimum exponent of base\n",
    "    max=1,  # maximum exponent of base\n",
    "    step=0.2,  # exponent step\n",
    "    description='$\\mathbf{{B}}_{{min}}$:',\n",
    "    continuous_update=False  # update the value only when the user releases the slider handle\n",
    ")\n",
    "B_max_hf = FloatLogSlider(\n",
    "    value=1e-3,  # initial value\n",
    "    base=10,  # base of the logarithm\n",
    "    min=-9,  # minimum exponent of base\n",
    "    max=1,  # maximum exponent of base\n",
    "    step=0.2,  # exponent step\n",
    "    description='$\\mathbf{{B}}_{{max}}$:',\n",
    "    continuous_update=False  # update the value only when the user releases the slider handle\n",
    ")\n",
    "\n",
    "interact(table_insensitive_hf_transitions, nu=nu_hf_dropdown, L=L_hf_dropdown,samples=fixed(10000), Bmin=B_min_hf, Bmax=B_max_hf, prob_threshold=fixed(1e-3) , sensitivity_threshold=fixed(100))"
   ]
  },
  {
   "cell_type": "markdown",
   "metadata": {},
   "source": []
  },
  {
   "cell_type": "code",
   "execution_count": 16,
   "metadata": {},
   "outputs": [
    {
     "data": {
      "application/vnd.jupyter.widget-view+json": {
       "model_id": "6f4c3189d99043ff8d67016040470482",
       "version_major": 2,
       "version_minor": 0
      },
      "text/plain": [
       "interactive(children=(Dropdown(description='$\\\\nu$:', options=(0, 1, 2, 3, 4, 5, 6, 7, 8, 9, 10), value=0), Dr…"
      ]
     },
     "metadata": {},
     "output_type": "display_data"
    },
    {
     "data": {
      "text/plain": [
       "<function H2plus_functions.table_eigenstates(nu, L, B)>"
      ]
     },
     "execution_count": 16,
     "metadata": {},
     "output_type": "execute_result"
    }
   ],
   "source": [
    "interact(table_eigenstates, B=slider_B, L=L_dropdown, nu=nu_dropdown)"
   ]
  },
  {
   "cell_type": "code",
   "execution_count": 8,
   "metadata": {},
   "outputs": [
    {
     "data": {
      "text/markdown": [
       "# 2-photon transitions between rovibrational levels"
      ],
      "text/plain": [
       "<IPython.core.display.Markdown object>"
      ]
     },
     "metadata": {},
     "output_type": "display_data"
    },
    {
     "data": {
      "text/markdown": [
       "### Select the initial rovibrational level:"
      ],
      "text/plain": [
       "<IPython.core.display.Markdown object>"
      ]
     },
     "metadata": {},
     "output_type": "display_data"
    },
    {
     "data": {
      "application/vnd.jupyter.widget-view+json": {
       "model_id": "614f57405f58413195b34f8a99028ed9",
       "version_major": 2,
       "version_minor": 0
      },
      "text/plain": [
       "Dropdown(description='$\\\\nu_i$:', options=(0, 1, 2, 3, 4, 5, 6, 7, 8, 9, 10), value=0)"
      ]
     },
     "metadata": {},
     "output_type": "display_data"
    },
    {
     "data": {
      "application/vnd.jupyter.widget-view+json": {
       "model_id": "29c46741257947bf9cbd4653d47573a0",
       "version_major": 2,
       "version_minor": 0
      },
      "text/plain": [
       "Dropdown(description='$L_i$:', index=1, options=(0, 1, 2, 3, 4, 5, 6, 7, 8, 9), value=1)"
      ]
     },
     "metadata": {},
     "output_type": "display_data"
    },
    {
     "data": {
      "text/markdown": [
       "### Select the final rovibrational level:"
      ],
      "text/plain": [
       "<IPython.core.display.Markdown object>"
      ]
     },
     "metadata": {},
     "output_type": "display_data"
    },
    {
     "data": {
      "application/vnd.jupyter.widget-view+json": {
       "model_id": "62a105e6934244fc855130e35c9e3614",
       "version_major": 2,
       "version_minor": 0
      },
      "text/plain": [
       "Dropdown(description='$\\\\nu_f$:', index=1, options=(0, 1, 2, 3, 4, 5, 6, 7, 8, 9, 10), value=1)"
      ]
     },
     "metadata": {},
     "output_type": "display_data"
    },
    {
     "data": {
      "application/vnd.jupyter.widget-view+json": {
       "model_id": "badc68e54ef74843b6e2fcbad1077e14",
       "version_major": 2,
       "version_minor": 0
      },
      "text/plain": [
       "Dropdown(description='$L_f$:', index=1, options=(0, 1, 2, 3, 4, 5, 6, 7, 8, 9), value=1)"
      ]
     },
     "metadata": {},
     "output_type": "display_data"
    }
   ],
   "source": [
    "display(Markdown('# 2-photon transitions between rovibrational levels'))\n",
    "# Create dropdown widgets for L and nu\n",
    "Li_dropdown = Dropdown(options=L_values, description='$L_i$:', value=1)\n",
    "nu_i_dropdown = Dropdown(options=nu_values[Li_dropdown.value], description='$\\\\nu_i$:', value=0)\n",
    "Lf_dropdown = Dropdown(options=L_values, description='$L_f$:', value=1)\n",
    "nu_f_dropdown = Dropdown(options=nu_values[Lf_dropdown.value], description='$\\\\nu_f$:', value=1)\n",
    "B_2photon_slider = FloatLogSlider(\n",
    "    value=450e-6,  # initial value\n",
    "    base=10,  # base of the logarithm\n",
    "    min=-7,  # minimum exponent of base\n",
    "    max=1,  # maximum exponent of base\n",
    "    step=0.2,  # exponent step\n",
    "    description='$\\mathbf{{B}}$:',\n",
    "    continuous_update=False  # update the value only when the user releases the slider handle\n",
    ")\n",
    "\n",
    "display(Markdown('### Select the initial rovibrational level:'))\n",
    "display(nu_i_dropdown,Li_dropdown)\n",
    "display(Markdown('### Select the final rovibrational level:'))\n",
    "display(nu_f_dropdown,Lf_dropdown)"
   ]
  },
  {
   "cell_type": "code",
   "execution_count": 19,
   "metadata": {},
   "outputs": [
    {
     "data": {
      "application/vnd.jupyter.widget-view+json": {
       "model_id": "943757b83097449984d76f620351d342",
       "version_major": 2,
       "version_minor": 0
      },
      "text/plain": [
       "interactive(children=(FloatLogSlider(value=0.00045, continuous_update=False, description='$\\\\mathbf{{B}}$:', m…"
      ]
     },
     "metadata": {},
     "output_type": "display_data"
    },
    {
     "data": {
      "text/plain": [
       "<function __main__.Two_photon_transitions(B, prob_threshold=1e-07, sensitivity_threshold=None)>"
      ]
     },
     "execution_count": 19,
     "metadata": {},
     "output_type": "execute_result"
    }
   ],
   "source": [
    "def Two_photon_transitions(B, prob_threshold=1e-7, sensitivity_threshold=None):\n",
    "    return table_2photon_transitions(nu_i_dropdown.value, Li_dropdown.value, nu_f_dropdown.value, Lf_dropdown.value, B, prob_threshold, sensitivity_threshold)\n",
    "\n",
    "interact(Two_photon_transitions, B=B_2photon_slider, prob_threshold=fixed(1e-7), sensitivity_threshold=fixed(None))"
   ]
  },
  {
   "cell_type": "code",
   "execution_count": 10,
   "metadata": {},
   "outputs": [
    {
     "data": {
      "text/markdown": [
       "# 9-Be<sup>+</sup> Finestructure"
      ],
      "text/plain": [
       "<IPython.core.display.Markdown object>"
      ]
     },
     "metadata": {},
     "output_type": "display_data"
    },
    {
     "data": {
      "application/vnd.jupyter.widget-view+json": {
       "model_id": "b1ff608303a0423c9f600f7cdb9c7fbc",
       "version_major": 2,
       "version_minor": 0
      },
      "text/plain": [
       "interactive(children=(Dropdown(description='L', options=(0, 1), value=0), Dropdown(description='J', options=(0…"
      ]
     },
     "metadata": {},
     "output_type": "display_data"
    },
    {
     "data": {
      "text/plain": [
       "<function __main__.plot_and_table(L, J, B_max, B, number_points_B, separate, derivatives)>"
      ]
     },
     "execution_count": 10,
     "metadata": {},
     "output_type": "execute_result"
    }
   ],
   "source": [
    "import Beplus as Be\n",
    "\n",
    "display(Markdown('# 9-Be<sup>+</sup> Finestructure'))\n",
    "\n",
    "\n",
    "\n",
    "# Define the function to update J options based on L\n",
    "def update_J_options(*args):\n",
    "    if Be_L_dropdown.value == 0:\n",
    "        Be_J_dropdown.options = [0.5]\n",
    "    else:\n",
    "        Be_J_dropdown.options = [0.5, 1.5]\n",
    "\n",
    "# Create a dropdown for L\n",
    "Be_L_dropdown = Dropdown(options=[0, 1], value=0)\n",
    "\n",
    "# Create a dropdown for J\n",
    "Be_J_dropdown = Dropdown(options=[0.5, 1.5], value=0.5)\n",
    "\n",
    "# Update J options whenever L changes\n",
    "Be_L_dropdown.observe(update_J_options, 'value')\n",
    "\n",
    "def plot_and_table(L, J, B_max, B, number_points_B, separate, derivatives):\n",
    "    display(Markdown('## Breit-Rabi diagrams'))\n",
    "    Be.plot_eigenenergies(L, J, B_max, number_points_B, separate, derivatives)\n",
    "    display(Markdown('## Eigenstates in detail for fixed B field'))\n",
    "    display(Be.table_eigenstates(L, J, B))\n",
    "\n",
    "# Call interact with the dropdowns\n",
    "interact(plot_and_table, L=Be_L_dropdown, J=Be_J_dropdown, B_max=B_max_slider, B=slider_B, number_points_B=num_points_input, separate=separate_checkbox, derivatives=derivatives_checkbox)\n",
    "\n"
   ]
  }
 ],
 "metadata": {
  "kernelspec": {
   "display_name": "base",
   "language": "python",
   "name": "python3"
  },
  "language_info": {
   "codemirror_mode": {
    "name": "ipython",
    "version": 3
   },
   "file_extension": ".py",
   "mimetype": "text/x-python",
   "name": "python",
   "nbconvert_exporter": "python",
   "pygments_lexer": "ipython3",
   "version": "3.11.7"
  }
 },
 "nbformat": 4,
 "nbformat_minor": 2
}
